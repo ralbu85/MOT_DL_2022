{
  "nbformat": 4,
  "nbformat_minor": 0,
  "metadata": {
    "accelerator": "GPU",
    "colab": {
      "name": "CNN.ipynb",
      "provenance": [],
      "collapsed_sections": []
    },
    "kernelspec": {
      "display_name": "Python 3",
      "name": "python3"
    },
    "language_info": {
      "name": "python"
    }
  },
  "cells": [
    {
      "cell_type": "code",
      "metadata": {
        "id": "vK--jBA3anqo"
      },
      "source": [
        "import tensorflow as tf\n",
        "from tensorflow import keras\n",
        "from keras import layers\n",
        "\n",
        "import numpy as np\n",
        "import matplotlib.pyplot as plt"
      ],
      "execution_count": null,
      "outputs": []
    },
    {
      "cell_type": "code",
      "metadata": {
        "colab": {
          "base_uri": "https://localhost:8080/"
        },
        "id": "B30rzFTjbBdu",
        "outputId": "11830b84-b087-4007-e47c-75782b52d644"
      },
      "source": [
        "fashion_mnist = keras.datasets.fashion_mnist\n",
        "(train_x, train_y), (test_x, test_y) = fashion_mnist.load_data()"
      ],
      "execution_count": null,
      "outputs": [
        {
          "name": "stdout",
          "output_type": "stream",
          "text": [
            "Downloading data from https://storage.googleapis.com/tensorflow/tf-keras-datasets/train-labels-idx1-ubyte.gz\n",
            "32768/29515 [=================================] - 0s 0us/step\n",
            "40960/29515 [=========================================] - 0s 0us/step\n",
            "Downloading data from https://storage.googleapis.com/tensorflow/tf-keras-datasets/train-images-idx3-ubyte.gz\n",
            "26427392/26421880 [==============================] - 0s 0us/step\n",
            "26435584/26421880 [==============================] - 0s 0us/step\n",
            "Downloading data from https://storage.googleapis.com/tensorflow/tf-keras-datasets/t10k-labels-idx1-ubyte.gz\n",
            "16384/5148 [===============================================================================================] - 0s 0us/step\n",
            "Downloading data from https://storage.googleapis.com/tensorflow/tf-keras-datasets/t10k-images-idx3-ubyte.gz\n",
            "4423680/4422102 [==============================] - 0s 0us/step\n",
            "4431872/4422102 [==============================] - 0s 0us/step\n"
          ]
        }
      ]
    },
    {
      "cell_type": "markdown",
      "metadata": {
        "id": "pIAif0XUeVwY"
      },
      "source": [
        "## 데이터 스케일링"
      ]
    },
    {
      "cell_type": "code",
      "metadata": {
        "id": "-9eeVe_cdNl8"
      },
      "source": [
        "train_x=train_x/255.0\n",
        "test_x=test_x/255.0"
      ],
      "execution_count": null,
      "outputs": []
    },
    {
      "cell_type": "markdown",
      "metadata": {
        "id": "j20q8FwKfV-8"
      },
      "source": [
        "## 그림 한장을 3차원으로 표현 (커널의 개념)"
      ]
    },
    {
      "cell_type": "code",
      "metadata": {
        "colab": {
          "base_uri": "https://localhost:8080/"
        },
        "id": "aPA09KSzdW3I",
        "outputId": "8d651cbe-834e-4b5c-a7f4-f16b67f288d4"
      },
      "source": [
        "train_x=train_x.reshape(60000,28,28,1)\n",
        "train_x.shape"
      ],
      "execution_count": null,
      "outputs": [
        {
          "data": {
            "text/plain": [
              "(60000, 28, 28, 1)"
            ]
          },
          "execution_count": 4,
          "metadata": {},
          "output_type": "execute_result"
        }
      ]
    },
    {
      "cell_type": "code",
      "metadata": {
        "colab": {
          "base_uri": "https://localhost:8080/"
        },
        "id": "FfYuIDFBfZ_b",
        "outputId": "fef97c44-17dc-4249-ed10-18063d760f20"
      },
      "source": [
        "test_x=test_x.reshape(10000,28,28,1)\n",
        "test_x.shape"
      ],
      "execution_count": null,
      "outputs": [
        {
          "data": {
            "text/plain": [
              "(10000, 28, 28, 1)"
            ]
          },
          "execution_count": 5,
          "metadata": {},
          "output_type": "execute_result"
        }
      ]
    },
    {
      "cell_type": "markdown",
      "metadata": {
        "id": "6OAJ31ORff12"
      },
      "source": [
        "## Convolution Layer"
      ]
    },
    {
      "cell_type": "code",
      "metadata": {
        "id": "7sHTKBwffiEi"
      },
      "source": [
        "l=layers.Conv2D(32, kernel_size=(3,3), input_shape=(28,28,1), activation='relu')"
      ],
      "execution_count": null,
      "outputs": []
    },
    {
      "cell_type": "code",
      "metadata": {
        "colab": {
          "base_uri": "https://localhost:8080/"
        },
        "id": "T-kTe-3TgA_x",
        "outputId": "662a77b3-9c8e-4d32-b2de-2c37f0fb79ea"
      },
      "source": [
        "l(train_x[:10]).shape"
      ],
      "execution_count": null,
      "outputs": [
        {
          "data": {
            "text/plain": [
              "TensorShape([10, 26, 26, 32])"
            ]
          },
          "execution_count": 7,
          "metadata": {},
          "output_type": "execute_result"
        }
      ]
    },
    {
      "cell_type": "code",
      "metadata": {
        "colab": {
          "base_uri": "https://localhost:8080/"
        },
        "id": "EOnqGmA0g3Rs",
        "outputId": "5a124cc9-2176-44db-fbc5-61dd6939091a"
      },
      "source": [
        "p = layers.MaxPool2D(input_shape=(26,26,32),pool_size=(2,2))\n",
        "p(l(train_x[:10])).shape"
      ],
      "execution_count": null,
      "outputs": [
        {
          "data": {
            "text/plain": [
              "TensorShape([10, 13, 13, 32])"
            ]
          },
          "execution_count": 8,
          "metadata": {},
          "output_type": "execute_result"
        }
      ]
    },
    {
      "cell_type": "markdown",
      "metadata": {
        "id": "SRv6gLOLhVkp"
      },
      "source": [
        "## CNN 만들기"
      ]
    },
    {
      "cell_type": "code",
      "metadata": {
        "colab": {
          "base_uri": "https://localhost:8080/"
        },
        "id": "1AaMvKXChXim",
        "outputId": "c0ebdb3c-14f7-44fb-82b1-cd47a4e88311"
      },
      "source": [
        "model = keras.Sequential([\n",
        "                          layers.Conv2D(32, kernel_size=(3,3), input_shape=(28,28,1), activation='relu'),\n",
        "                          layers.MaxPool2D(pool_size=(2,2)),\n",
        "                          layers.Conv2D(64, kernel_size=(3,3), activation='relu'),\n",
        "                          layers.MaxPool2D(pool_size=(2,2)),\n",
        "                          layers.Flatten(),\n",
        "                          layers.Dropout(0.5),\n",
        "                          layers.Dense(10,activation='softmax')\n",
        "                          ])\n",
        "\n",
        "model.summary()"
      ],
      "execution_count": null,
      "outputs": [
        {
          "name": "stdout",
          "output_type": "stream",
          "text": [
            "Model: \"sequential\"\n",
            "_________________________________________________________________\n",
            "Layer (type)                 Output Shape              Param #   \n",
            "=================================================================\n",
            "conv2d_1 (Conv2D)            (None, 26, 26, 32)        320       \n",
            "_________________________________________________________________\n",
            "max_pooling2d_1 (MaxPooling2 (None, 13, 13, 32)        0         \n",
            "_________________________________________________________________\n",
            "conv2d_2 (Conv2D)            (None, 11, 11, 64)        18496     \n",
            "_________________________________________________________________\n",
            "max_pooling2d_2 (MaxPooling2 (None, 5, 5, 64)          0         \n",
            "_________________________________________________________________\n",
            "flatten (Flatten)            (None, 1600)              0         \n",
            "_________________________________________________________________\n",
            "dropout (Dropout)            (None, 1600)              0         \n",
            "_________________________________________________________________\n",
            "dense (Dense)                (None, 10)                16010     \n",
            "=================================================================\n",
            "Total params: 34,826\n",
            "Trainable params: 34,826\n",
            "Non-trainable params: 0\n",
            "_________________________________________________________________\n"
          ]
        }
      ]
    },
    {
      "cell_type": "code",
      "metadata": {
        "id": "JKLpuHx8iq64"
      },
      "source": [
        "## 모형 컴파일\n",
        "model.compile(loss='sparse_categorical_crossentropy',optimizer='adam',metrics=['accuracy'])"
      ],
      "execution_count": null,
      "outputs": []
    },
    {
      "cell_type": "code",
      "metadata": {
        "id": "jpdoFPxIi3Ui"
      },
      "source": [
        "## 조기중단 콜백\n",
        "early_stop=keras.callbacks.EarlyStopping(monitor='val_loss',patience=10)"
      ],
      "execution_count": null,
      "outputs": []
    },
    {
      "cell_type": "code",
      "metadata": {
        "colab": {
          "background_save": true,
          "base_uri": "https://localhost:8080/"
        },
        "id": "ijI4VNizi5l9",
        "outputId": "843a6ed7-3c99-4abc-88c2-7b27ed69b6cb"
      },
      "source": [
        "model.fit(train_x,train_y,batch_size=64,epochs=1000,callbacks=[early_stop],validation_split=0.2)"
      ],
      "execution_count": null,
      "outputs": [
        {
          "name": "stdout",
          "output_type": "stream",
          "text": [
            "Epoch 1/1000\n",
            "750/750 [==============================] - 44s 58ms/step - loss: 0.6317 - accuracy: 0.7688 - val_loss: 0.4237 - val_accuracy: 0.8502\n",
            "Epoch 2/1000\n",
            "750/750 [==============================] - 43s 57ms/step - loss: 0.4301 - accuracy: 0.8448 - val_loss: 0.3690 - val_accuracy: 0.8736\n",
            "Epoch 3/1000\n",
            "750/750 [==============================] - 42s 55ms/step - loss: 0.3836 - accuracy: 0.8617 - val_loss: 0.3684 - val_accuracy: 0.8646\n",
            "Epoch 4/1000\n",
            "750/750 [==============================] - 41s 55ms/step - loss: 0.3566 - accuracy: 0.8721 - val_loss: 0.3181 - val_accuracy: 0.8859\n",
            "Epoch 5/1000\n",
            "750/750 [==============================] - 41s 54ms/step - loss: 0.3345 - accuracy: 0.8789 - val_loss: 0.3069 - val_accuracy: 0.8877\n",
            "Epoch 6/1000\n",
            "750/750 [==============================] - 41s 54ms/step - loss: 0.3220 - accuracy: 0.8840 - val_loss: 0.2976 - val_accuracy: 0.8886\n",
            "Epoch 7/1000\n",
            "750/750 [==============================] - 41s 54ms/step - loss: 0.3116 - accuracy: 0.8872 - val_loss: 0.2843 - val_accuracy: 0.8968\n",
            "Epoch 8/1000\n",
            "750/750 [==============================] - 40s 53ms/step - loss: 0.3001 - accuracy: 0.8913 - val_loss: 0.2868 - val_accuracy: 0.8971\n",
            "Epoch 9/1000\n",
            "750/750 [==============================] - 40s 53ms/step - loss: 0.2920 - accuracy: 0.8933 - val_loss: 0.2721 - val_accuracy: 0.8997\n",
            "Epoch 10/1000\n",
            "750/750 [==============================] - 40s 54ms/step - loss: 0.2850 - accuracy: 0.8961 - val_loss: 0.2638 - val_accuracy: 0.9047\n",
            "Epoch 11/1000\n",
            "750/750 [==============================] - 40s 53ms/step - loss: 0.2817 - accuracy: 0.8984 - val_loss: 0.2686 - val_accuracy: 0.9034\n",
            "Epoch 12/1000\n",
            "750/750 [==============================] - 40s 53ms/step - loss: 0.2699 - accuracy: 0.9014 - val_loss: 0.2570 - val_accuracy: 0.9068\n",
            "Epoch 13/1000\n",
            "750/750 [==============================] - 41s 54ms/step - loss: 0.2667 - accuracy: 0.9044 - val_loss: 0.2654 - val_accuracy: 0.9013\n",
            "Epoch 14/1000\n",
            "750/750 [==============================] - 40s 53ms/step - loss: 0.2635 - accuracy: 0.9048 - val_loss: 0.2744 - val_accuracy: 0.8993\n",
            "Epoch 15/1000\n",
            "750/750 [==============================] - 41s 55ms/step - loss: 0.2578 - accuracy: 0.9060 - val_loss: 0.2504 - val_accuracy: 0.9111\n",
            "Epoch 16/1000\n",
            "750/750 [==============================] - 40s 53ms/step - loss: 0.2531 - accuracy: 0.9077 - val_loss: 0.2553 - val_accuracy: 0.9081\n",
            "Epoch 17/1000\n",
            "750/750 [==============================] - 40s 53ms/step - loss: 0.2495 - accuracy: 0.9084 - val_loss: 0.2495 - val_accuracy: 0.9093\n",
            "Epoch 18/1000\n",
            "750/750 [==============================] - 40s 53ms/step - loss: 0.2447 - accuracy: 0.9092 - val_loss: 0.2481 - val_accuracy: 0.9111\n",
            "Epoch 19/1000\n",
            "750/750 [==============================] - 40s 54ms/step - loss: 0.2422 - accuracy: 0.9102 - val_loss: 0.2447 - val_accuracy: 0.9128\n",
            "Epoch 20/1000\n",
            "750/750 [==============================] - 40s 54ms/step - loss: 0.2399 - accuracy: 0.9114 - val_loss: 0.2534 - val_accuracy: 0.9105\n",
            "Epoch 21/1000\n",
            "750/750 [==============================] - 40s 54ms/step - loss: 0.2351 - accuracy: 0.9142 - val_loss: 0.2438 - val_accuracy: 0.9123\n",
            "Epoch 22/1000\n",
            "750/750 [==============================] - 40s 54ms/step - loss: 0.2337 - accuracy: 0.9151 - val_loss: 0.2410 - val_accuracy: 0.9150\n",
            "Epoch 23/1000\n",
            "750/750 [==============================] - 40s 53ms/step - loss: 0.2272 - accuracy: 0.9152 - val_loss: 0.2412 - val_accuracy: 0.9123\n",
            "Epoch 24/1000\n",
            "750/750 [==============================] - 40s 53ms/step - loss: 0.2275 - accuracy: 0.9165 - val_loss: 0.2387 - val_accuracy: 0.9137\n",
            "Epoch 25/1000\n",
            "750/750 [==============================] - 40s 54ms/step - loss: 0.2226 - accuracy: 0.9180 - val_loss: 0.2391 - val_accuracy: 0.9133\n",
            "Epoch 26/1000\n",
            "750/750 [==============================] - 40s 54ms/step - loss: 0.2227 - accuracy: 0.9178 - val_loss: 0.2367 - val_accuracy: 0.9147\n",
            "Epoch 27/1000\n",
            "750/750 [==============================] - 40s 54ms/step - loss: 0.2236 - accuracy: 0.9187 - val_loss: 0.2387 - val_accuracy: 0.9137\n",
            "Epoch 28/1000\n",
            "750/750 [==============================] - 40s 53ms/step - loss: 0.2208 - accuracy: 0.9181 - val_loss: 0.2397 - val_accuracy: 0.9152\n",
            "Epoch 29/1000\n",
            "750/750 [==============================] - 40s 53ms/step - loss: 0.2183 - accuracy: 0.9196 - val_loss: 0.2447 - val_accuracy: 0.9125\n",
            "Epoch 30/1000\n",
            "750/750 [==============================] - 40s 53ms/step - loss: 0.2154 - accuracy: 0.9201 - val_loss: 0.2355 - val_accuracy: 0.9171\n",
            "Epoch 31/1000\n",
            "750/750 [==============================] - 41s 54ms/step - loss: 0.2134 - accuracy: 0.9214 - val_loss: 0.2435 - val_accuracy: 0.9139\n",
            "Epoch 32/1000\n",
            "750/750 [==============================] - 40s 53ms/step - loss: 0.2106 - accuracy: 0.9221 - val_loss: 0.2358 - val_accuracy: 0.9164\n",
            "Epoch 33/1000\n",
            "750/750 [==============================] - 41s 54ms/step - loss: 0.2093 - accuracy: 0.9241 - val_loss: 0.2299 - val_accuracy: 0.9171\n",
            "Epoch 34/1000\n",
            "750/750 [==============================] - 41s 54ms/step - loss: 0.2100 - accuracy: 0.9234 - val_loss: 0.2344 - val_accuracy: 0.9154\n",
            "Epoch 35/1000\n",
            "750/750 [==============================] - 40s 54ms/step - loss: 0.2059 - accuracy: 0.9250 - val_loss: 0.2341 - val_accuracy: 0.9176\n",
            "Epoch 36/1000\n",
            "750/750 [==============================] - 41s 54ms/step - loss: 0.2081 - accuracy: 0.9233 - val_loss: 0.2297 - val_accuracy: 0.9208\n",
            "Epoch 37/1000\n",
            "750/750 [==============================] - 40s 54ms/step - loss: 0.2046 - accuracy: 0.9245 - val_loss: 0.2323 - val_accuracy: 0.9197\n",
            "Epoch 38/1000\n",
            "750/750 [==============================] - 40s 53ms/step - loss: 0.2038 - accuracy: 0.9254 - val_loss: 0.2381 - val_accuracy: 0.9147\n",
            "Epoch 39/1000\n",
            "750/750 [==============================] - 40s 54ms/step - loss: 0.2017 - accuracy: 0.9253 - val_loss: 0.2401 - val_accuracy: 0.9164\n",
            "Epoch 40/1000\n",
            "750/750 [==============================] - 41s 54ms/step - loss: 0.2001 - accuracy: 0.9259 - val_loss: 0.2366 - val_accuracy: 0.9166\n",
            "Epoch 41/1000\n",
            "750/750 [==============================] - 40s 54ms/step - loss: 0.1992 - accuracy: 0.9271 - val_loss: 0.2335 - val_accuracy: 0.9181\n",
            "Epoch 42/1000\n",
            "750/750 [==============================] - 40s 54ms/step - loss: 0.1982 - accuracy: 0.9273 - val_loss: 0.2330 - val_accuracy: 0.9171\n",
            "Epoch 43/1000\n",
            "750/750 [==============================] - 41s 54ms/step - loss: 0.1983 - accuracy: 0.9274 - val_loss: 0.2409 - val_accuracy: 0.9143\n",
            "Epoch 44/1000\n",
            "750/750 [==============================] - 40s 53ms/step - loss: 0.1959 - accuracy: 0.9266 - val_loss: 0.2485 - val_accuracy: 0.9112\n",
            "Epoch 45/1000\n",
            "750/750 [==============================] - 40s 54ms/step - loss: 0.1937 - accuracy: 0.9296 - val_loss: 0.2344 - val_accuracy: 0.9183\n",
            "Epoch 46/1000\n",
            "750/750 [==============================] - 41s 54ms/step - loss: 0.1902 - accuracy: 0.9311 - val_loss: 0.2329 - val_accuracy: 0.9192\n"
          ]
        },
        {
          "data": {
            "text/plain": [
              "<keras.callbacks.History at 0x7f2f8870fc90>"
            ]
          },
          "execution_count": null,
          "metadata": {},
          "output_type": "execute_result"
        }
      ]
    },
    {
      "cell_type": "code",
      "metadata": {
        "colab": {
          "base_uri": "https://localhost:8080/"
        },
        "id": "uaAw64Izl951",
        "outputId": "dbd7e23f-9ea6-4769-f228-31d3fdcf1298"
      },
      "source": [
        "model.evaluate(test_x,test_y)"
      ],
      "execution_count": null,
      "outputs": [
        {
          "name": "stdout",
          "output_type": "stream",
          "text": [
            "313/313 [==============================] - 1s 3ms/step - loss: 0.2563 - accuracy: 0.9082\n"
          ]
        },
        {
          "data": {
            "text/plain": [
              "[0.2562895119190216, 0.9082000255584717]"
            ]
          },
          "execution_count": 13,
          "metadata": {},
          "output_type": "execute_result"
        }
      ]
    }
  ]
}