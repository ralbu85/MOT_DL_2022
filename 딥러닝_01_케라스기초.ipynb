{
  "nbformat": 4,
  "nbformat_minor": 0,
  "metadata": {
    "colab": {
      "name": "뉴럴네트워크기초.ipynb",
      "provenance": []
    },
    "kernelspec": {
      "name": "python3",
      "display_name": "Python 3"
    },
    "language_info": {
      "name": "python"
    }
  },
  "cells": [
    {
      "cell_type": "markdown",
      "metadata": {
        "id": "PtbO90GffD0n"
      },
      "source": [
        "# 라이브러리 불러오기"
      ]
    },
    {
      "cell_type": "code",
      "metadata": {
        "id": "2uk98eXJX59L"
      },
      "source": [
        "from tensorflow import keras # keras 고수준 api 불러오기\n",
        "from keras import layers # 퍼셉트론으로 구성된 은닉층, 입력층, 출력층\n",
        "\n",
        "import numpy as np\n",
        "import matplotlib.pyplot as plt"
      ],
      "execution_count": null,
      "outputs": []
    },
    {
      "cell_type": "markdown",
      "metadata": {
        "id": "FqLxnADifcM_"
      },
      "source": [
        "## 퍼셉트론"
      ]
    },
    {
      "cell_type": "code",
      "metadata": {
        "colab": {
          "base_uri": "https://localhost:8080/"
        },
        "id": "oxQaeTiffGYU",
        "outputId": "7a770252-316e-4fe5-e92b-10f8fd4c8356"
      },
      "source": [
        "# 랜덤 데이터 생성\n",
        "X = np.random.rand(1,5)\n",
        "X"
      ],
      "execution_count": null,
      "outputs": [
        {
          "output_type": "execute_result",
          "data": {
            "text/plain": [
              "array([[0.27554744, 0.65903671, 0.79104006, 0.03621095, 0.27476271]])"
            ]
          },
          "metadata": {},
          "execution_count": 5
        }
      ]
    },
    {
      "cell_type": "code",
      "metadata": {
        "id": "GplRKL8df5n5"
      },
      "source": [
        "# 퍼셉트론\n",
        "l=layers.Dense(1, input_shape=[5])"
      ],
      "execution_count": null,
      "outputs": []
    },
    {
      "cell_type": "code",
      "metadata": {
        "colab": {
          "base_uri": "https://localhost:8080/"
        },
        "id": "z8R22yK7gQvL",
        "outputId": "1661af93-d895-4b6b-96e3-caeb8dc1dafa"
      },
      "source": [
        "l(X)"
      ],
      "execution_count": null,
      "outputs": [
        {
          "output_type": "execute_result",
          "data": {
            "text/plain": [
              "<tf.Tensor: shape=(1, 1), dtype=float32, numpy=array([[0.5393923]], dtype=float32)>"
            ]
          },
          "metadata": {},
          "execution_count": 7
        }
      ]
    },
    {
      "cell_type": "markdown",
      "metadata": {
        "id": "Dj9fhimLhOK9"
      },
      "source": [
        "## 퍼셉트론 (출력층이 여러 개)"
      ]
    },
    {
      "cell_type": "code",
      "metadata": {
        "colab": {
          "base_uri": "https://localhost:8080/"
        },
        "id": "jDGkUzCNhQKT",
        "outputId": "732accf8-b8e1-4031-ff67-d75d63dcd6a2"
      },
      "source": [
        "l = layers.Dense(3,input_shape=[5])\n",
        "l(X)"
      ],
      "execution_count": null,
      "outputs": [
        {
          "output_type": "execute_result",
          "data": {
            "text/plain": [
              "<tf.Tensor: shape=(1, 3), dtype=float32, numpy=array([[ 0.13687558, -0.5457355 , -1.159273  ]], dtype=float32)>"
            ]
          },
          "metadata": {},
          "execution_count": 8
        }
      ]
    },
    {
      "cell_type": "markdown",
      "metadata": {
        "id": "6CdhrcmAiAJW"
      },
      "source": [
        "## 퍼셉트론 (활성화 함수)"
      ]
    },
    {
      "cell_type": "code",
      "metadata": {
        "colab": {
          "base_uri": "https://localhost:8080/"
        },
        "id": "prvPpUZmiCfj",
        "outputId": "8720d862-1bd6-406b-abc4-86efaec01c49"
      },
      "source": [
        "# l = layers.Dense(3, input_shape=[5], activation='sigmoid')\n",
        "# l = layers.Dense(3, input_shape=[5], activation='tanh')\n",
        "l = layers.Dense(3, input_shape=[5], activation='relu')\n",
        "l(X)"
      ],
      "execution_count": null,
      "outputs": [
        {
          "output_type": "execute_result",
          "data": {
            "text/plain": [
              "<tf.Tensor: shape=(1, 3), dtype=float32, numpy=array([[0.24503528, 0.        , 0.78145385]], dtype=float32)>"
            ]
          },
          "metadata": {},
          "execution_count": 12
        }
      ]
    },
    {
      "cell_type": "markdown",
      "metadata": {
        "id": "06ztJ9vPiXWE"
      },
      "source": [
        "## 한번에 여러 raw 처리"
      ]
    },
    {
      "cell_type": "code",
      "metadata": {
        "colab": {
          "base_uri": "https://localhost:8080/"
        },
        "id": "P_WAnwD_i9gs",
        "outputId": "d8db42de-a0b7-4afd-8126-a97a5934d8e4"
      },
      "source": [
        "X = np.random.rand(10,5)\n",
        "X"
      ],
      "execution_count": null,
      "outputs": [
        {
          "output_type": "execute_result",
          "data": {
            "text/plain": [
              "array([[0.20942995, 0.78283728, 0.88669972, 0.26386121, 0.0130669 ],\n",
              "       [0.46840124, 0.96597659, 0.07350835, 0.59361112, 0.0408333 ],\n",
              "       [0.61721753, 0.91235031, 0.41619273, 0.61923972, 0.52322262],\n",
              "       [0.55654313, 0.43314735, 0.27904022, 0.31840878, 0.40773521],\n",
              "       [0.04573027, 0.19997545, 0.98624656, 0.25166215, 0.91859658],\n",
              "       [0.58697132, 0.34151022, 0.61557683, 0.21199541, 0.64385041],\n",
              "       [0.58811223, 0.06282425, 0.75759702, 0.16862143, 0.26610003],\n",
              "       [0.93385939, 0.18432249, 0.89785364, 0.86464714, 0.98152376],\n",
              "       [0.82006284, 0.36244593, 0.35566718, 0.09827343, 0.921831  ],\n",
              "       [0.83652049, 0.50134615, 0.86767753, 0.41803355, 0.71343924]])"
            ]
          },
          "metadata": {},
          "execution_count": 14
        }
      ]
    },
    {
      "cell_type": "code",
      "metadata": {
        "colab": {
          "base_uri": "https://localhost:8080/"
        },
        "id": "4DMHZUGgjLgf",
        "outputId": "922e653b-a100-48be-bdee-64ba9d505928"
      },
      "source": [
        "l(X)"
      ],
      "execution_count": null,
      "outputs": [
        {
          "output_type": "execute_result",
          "data": {
            "text/plain": [
              "<tf.Tensor: shape=(10, 3), dtype=float32, numpy=\n",
              "array([[0.19482738, 0.        , 0.8817548 ],\n",
              "       [0.2682322 , 0.        , 0.1461054 ],\n",
              "       [0.45426908, 0.        , 0.22641692],\n",
              "       [0.12455227, 0.        , 0.16708212],\n",
              "       [0.69677925, 0.        , 0.34363985],\n",
              "       [0.17187284, 0.        , 0.3778517 ],\n",
              "       [0.        , 0.        , 0.61660314],\n",
              "       [0.16772659, 0.        , 0.18506454],\n",
              "       [0.21969005, 0.        , 0.16346538],\n",
              "       [0.12097018, 0.        , 0.5698775 ]], dtype=float32)>"
            ]
          },
          "metadata": {},
          "execution_count": 15
        }
      ]
    },
    {
      "cell_type": "markdown",
      "metadata": {
        "id": "NXpzWCH8kMn1"
      },
      "source": [
        "# Deep neural network 만들기"
      ]
    },
    {
      "cell_type": "markdown",
      "metadata": {
        "id": "TMeYujC5kUv-"
      },
      "source": [
        "## keras.Sequential을 이용해 모델만들기"
      ]
    },
    {
      "cell_type": "code",
      "metadata": {
        "colab": {
          "base_uri": "https://localhost:8080/"
        },
        "id": "ZuNy0RQ5kPBv",
        "outputId": "13208933-d2fa-44cc-cbd2-e92bf3f103d0"
      },
      "source": [
        "X = np.random.rand(1,5)\n",
        "X"
      ],
      "execution_count": null,
      "outputs": [
        {
          "output_type": "execute_result",
          "data": {
            "text/plain": [
              "array([[0.59723998, 0.82850554, 0.75037699, 0.47889264, 0.71268638]])"
            ]
          },
          "metadata": {},
          "execution_count": 16
        }
      ]
    },
    {
      "cell_type": "code",
      "metadata": {
        "id": "uTT_fV7ikaeB"
      },
      "source": [
        "model = keras.Sequential([\n",
        "                          layers.Dense(3,input_shape=[5],activation='relu')\n",
        "                          ])"
      ],
      "execution_count": null,
      "outputs": []
    },
    {
      "cell_type": "code",
      "metadata": {
        "colab": {
          "base_uri": "https://localhost:8080/"
        },
        "id": "_tZQv9Mbk6iz",
        "outputId": "7b63cb6a-12f6-4eb5-eb42-8f33e05f8a53"
      },
      "source": [
        "model.summary()"
      ],
      "execution_count": null,
      "outputs": [
        {
          "output_type": "stream",
          "name": "stdout",
          "text": [
            "Model: \"sequential_1\"\n",
            "_________________________________________________________________\n",
            "Layer (type)                 Output Shape              Param #   \n",
            "=================================================================\n",
            "dense_6 (Dense)              (None, 3)                 18        \n",
            "=================================================================\n",
            "Total params: 18\n",
            "Trainable params: 18\n",
            "Non-trainable params: 0\n",
            "_________________________________________________________________\n"
          ]
        }
      ]
    },
    {
      "cell_type": "code",
      "metadata": {
        "colab": {
          "base_uri": "https://localhost:8080/"
        },
        "id": "_3xs0UZWlPpv",
        "outputId": "a100702b-3614-4b50-82d9-b6e814d99209"
      },
      "source": [
        "model(X)"
      ],
      "execution_count": null,
      "outputs": [
        {
          "output_type": "execute_result",
          "data": {
            "text/plain": [
              "<tf.Tensor: shape=(1, 3), dtype=float32, numpy=array([[0.64895505, 0.6669186 , 1.2224698 ]], dtype=float32)>"
            ]
          },
          "metadata": {},
          "execution_count": 21
        }
      ]
    },
    {
      "cell_type": "markdown",
      "metadata": {
        "id": "7WShyAgPmILQ"
      },
      "source": [
        "## keras.Sequential에 층 추가하기"
      ]
    },
    {
      "cell_type": "code",
      "metadata": {
        "colab": {
          "base_uri": "https://localhost:8080/"
        },
        "id": "xN4rPvfCmMCs",
        "outputId": "8f203e02-13fc-4856-a8cd-c137e3bd0300"
      },
      "source": [
        "X = np.random.rand(1,10)\n",
        "X"
      ],
      "execution_count": null,
      "outputs": [
        {
          "output_type": "execute_result",
          "data": {
            "text/plain": [
              "array([[0.92690456, 0.18266836, 0.53864247, 0.65006688, 0.69820524,\n",
              "        0.28896389, 0.52836743, 0.60760152, 0.13164702, 0.16683157]])"
            ]
          },
          "metadata": {},
          "execution_count": 22
        }
      ]
    },
    {
      "cell_type": "code",
      "metadata": {
        "colab": {
          "base_uri": "https://localhost:8080/"
        },
        "id": "evka2uLcmPkw",
        "outputId": "9b0abedb-6c13-4730-d9eb-f8d5305f8555"
      },
      "source": [
        "model = keras.Sequential([\n",
        "                          layers.Dense(5,input_shape=[10],activation='relu'),\n",
        "                          layers.Dense(3,activation='sigmoid') # 두번째 층부터는 input_shape를 알아서 추론한다.\n",
        "])\n",
        "model.summary()"
      ],
      "execution_count": null,
      "outputs": [
        {
          "output_type": "stream",
          "name": "stdout",
          "text": [
            "Model: \"sequential_3\"\n",
            "_________________________________________________________________\n",
            "Layer (type)                 Output Shape              Param #   \n",
            "=================================================================\n",
            "dense_9 (Dense)              (None, 5)                 55        \n",
            "_________________________________________________________________\n",
            "dense_10 (Dense)             (None, 3)                 18        \n",
            "=================================================================\n",
            "Total params: 73\n",
            "Trainable params: 73\n",
            "Non-trainable params: 0\n",
            "_________________________________________________________________\n"
          ]
        }
      ]
    },
    {
      "cell_type": "code",
      "metadata": {
        "colab": {
          "base_uri": "https://localhost:8080/"
        },
        "id": "tmYDN2CunVj9",
        "outputId": "07edb524-8a06-4775-9821-9573ca11c73d"
      },
      "source": [
        "model(X)"
      ],
      "execution_count": null,
      "outputs": [
        {
          "output_type": "execute_result",
          "data": {
            "text/plain": [
              "<tf.Tensor: shape=(1, 3), dtype=float32, numpy=array([[0.39657706, 0.3162153 , 0.48907363]], dtype=float32)>"
            ]
          },
          "metadata": {},
          "execution_count": 25
        }
      ]
    },
    {
      "cell_type": "markdown",
      "metadata": {
        "id": "M1EKGHhYnleE"
      },
      "source": [
        "## 딥 뉴럴 네트워크"
      ]
    },
    {
      "cell_type": "code",
      "metadata": {
        "colab": {
          "base_uri": "https://localhost:8080/"
        },
        "id": "yE7RMH98nnfg",
        "outputId": "9284cf4e-755f-4fa9-d81f-4f3b76a77d84"
      },
      "source": [
        "model = keras.Sequential([\n",
        "    layers.Dense(5, input_shape=[10], activation='relu'),\n",
        "    layers.Dense(10,  activation='relu'), \n",
        "    layers.Dense(10,  activation='relu'), \n",
        "    layers.Dense(1,  activation='relu') \n",
        "])\n",
        "model.summary()"
      ],
      "execution_count": null,
      "outputs": [
        {
          "output_type": "stream",
          "name": "stdout",
          "text": [
            "Model: \"sequential_4\"\n",
            "_________________________________________________________________\n",
            "Layer (type)                 Output Shape              Param #   \n",
            "=================================================================\n",
            "dense_11 (Dense)             (None, 5)                 55        \n",
            "_________________________________________________________________\n",
            "dense_12 (Dense)             (None, 10)                60        \n",
            "_________________________________________________________________\n",
            "dense_13 (Dense)             (None, 10)                110       \n",
            "_________________________________________________________________\n",
            "dense_14 (Dense)             (None, 1)                 11        \n",
            "=================================================================\n",
            "Total params: 236\n",
            "Trainable params: 236\n",
            "Non-trainable params: 0\n",
            "_________________________________________________________________\n"
          ]
        }
      ]
    },
    {
      "cell_type": "code",
      "metadata": {
        "colab": {
          "base_uri": "https://localhost:8080/"
        },
        "id": "gT2aJeF5nzAn",
        "outputId": "4b179e4d-c547-4b04-e8c1-c0003c4a568f"
      },
      "source": [
        "model(X)"
      ],
      "execution_count": null,
      "outputs": [
        {
          "output_type": "execute_result",
          "data": {
            "text/plain": [
              "<tf.Tensor: shape=(1, 1), dtype=float32, numpy=array([[0.41036972]], dtype=float32)>"
            ]
          },
          "metadata": {},
          "execution_count": 27
        }
      ]
    },
    {
      "cell_type": "markdown",
      "metadata": {
        "id": "-W5myrOJn_Fb"
      },
      "source": [
        "## layer의 유형"
      ]
    },
    {
      "cell_type": "code",
      "metadata": {
        "id": "qldYmcR-oAyA"
      },
      "source": [
        "layers."
      ],
      "execution_count": null,
      "outputs": []
    }
  ]
}