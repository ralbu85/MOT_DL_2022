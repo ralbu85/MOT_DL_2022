{
  "nbformat": 4,
  "nbformat_minor": 0,
  "metadata": {
    "colab": {
      "name": "딥러닝_03_간단한모형학습.ipynb",
      "provenance": []
    },
    "kernelspec": {
      "name": "python3",
      "display_name": "Python 3"
    },
    "language_info": {
      "name": "python"
    }
  },
  "cells": [
    {
      "cell_type": "markdown",
      "metadata": {
        "id": "Od7u4eCFPs1m"
      },
      "source": [
        "## 심플데이터 불러오기"
      ]
    },
    {
      "cell_type": "code",
      "metadata": {
        "id": "cITNfGDrMPF2"
      },
      "source": [
        "import pandas as pd"
      ],
      "execution_count": null,
      "outputs": []
    },
    {
      "cell_type": "code",
      "metadata": {
        "id": "y4HakvehP2Tu"
      },
      "source": [
        "df=pd.read_csv('simple.csv')"
      ],
      "execution_count": null,
      "outputs": []
    },
    {
      "cell_type": "code",
      "metadata": {
        "colab": {
          "base_uri": "https://localhost:8080/",
          "height": 421
        },
        "id": "1RsvISkrP6XV",
        "outputId": "553e559a-8cf6-489e-9023-4fcedc645315"
      },
      "source": [
        "df"
      ],
      "execution_count": null,
      "outputs": [
        {
          "output_type": "execute_result",
          "data": {
            "text/html": [
              "<div>\n",
              "<style scoped>\n",
              "    .dataframe tbody tr th:only-of-type {\n",
              "        vertical-align: middle;\n",
              "    }\n",
              "\n",
              "    .dataframe tbody tr th {\n",
              "        vertical-align: top;\n",
              "    }\n",
              "\n",
              "    .dataframe thead th {\n",
              "        text-align: right;\n",
              "    }\n",
              "</style>\n",
              "<table border=\"1\" class=\"dataframe\">\n",
              "  <thead>\n",
              "    <tr style=\"text-align: right;\">\n",
              "      <th></th>\n",
              "      <th>X</th>\n",
              "      <th>y</th>\n",
              "    </tr>\n",
              "  </thead>\n",
              "  <tbody>\n",
              "    <tr>\n",
              "      <th>0</th>\n",
              "      <td>-1.069475</td>\n",
              "      <td>7.608280</td>\n",
              "    </tr>\n",
              "    <tr>\n",
              "      <th>1</th>\n",
              "      <td>2.157177</td>\n",
              "      <td>-3.892763</td>\n",
              "    </tr>\n",
              "    <tr>\n",
              "      <th>2</th>\n",
              "      <td>-0.754798</td>\n",
              "      <td>5.290338</td>\n",
              "    </tr>\n",
              "    <tr>\n",
              "      <th>3</th>\n",
              "      <td>-0.106052</td>\n",
              "      <td>4.434464</td>\n",
              "    </tr>\n",
              "    <tr>\n",
              "      <th>4</th>\n",
              "      <td>-0.869023</td>\n",
              "      <td>7.242275</td>\n",
              "    </tr>\n",
              "    <tr>\n",
              "      <th>...</th>\n",
              "      <td>...</td>\n",
              "      <td>...</td>\n",
              "    </tr>\n",
              "    <tr>\n",
              "      <th>995</th>\n",
              "      <td>-0.540468</td>\n",
              "      <td>7.165089</td>\n",
              "    </tr>\n",
              "    <tr>\n",
              "      <th>996</th>\n",
              "      <td>-1.312006</td>\n",
              "      <td>8.108264</td>\n",
              "    </tr>\n",
              "    <tr>\n",
              "      <th>997</th>\n",
              "      <td>1.097938</td>\n",
              "      <td>1.476735</td>\n",
              "    </tr>\n",
              "    <tr>\n",
              "      <th>998</th>\n",
              "      <td>-1.256977</td>\n",
              "      <td>6.798460</td>\n",
              "    </tr>\n",
              "    <tr>\n",
              "      <th>999</th>\n",
              "      <td>0.793720</td>\n",
              "      <td>3.163779</td>\n",
              "    </tr>\n",
              "  </tbody>\n",
              "</table>\n",
              "<p>1000 rows × 2 columns</p>\n",
              "</div>"
            ],
            "text/plain": [
              "            X         y\n",
              "0   -1.069475  7.608280\n",
              "1    2.157177 -3.892763\n",
              "2   -0.754798  5.290338\n",
              "3   -0.106052  4.434464\n",
              "4   -0.869023  7.242275\n",
              "..        ...       ...\n",
              "995 -0.540468  7.165089\n",
              "996 -1.312006  8.108264\n",
              "997  1.097938  1.476735\n",
              "998 -1.256977  6.798460\n",
              "999  0.793720  3.163779\n",
              "\n",
              "[1000 rows x 2 columns]"
            ]
          },
          "metadata": {},
          "execution_count": 3
        }
      ]
    },
    {
      "cell_type": "code",
      "metadata": {
        "colab": {
          "base_uri": "https://localhost:8080/",
          "height": 283
        },
        "id": "ggSjefMGQGT9",
        "outputId": "4d9117bb-aa32-4491-ff7e-8e8b88c9a25b"
      },
      "source": [
        "import matplotlib.pyplot as plt\n",
        "plt.scatter(df['X'],df['y'])"
      ],
      "execution_count": null,
      "outputs": [
        {
          "output_type": "execute_result",
          "data": {
            "text/plain": [
              "<matplotlib.collections.PathCollection at 0x7f707c87e810>"
            ]
          },
          "metadata": {},
          "execution_count": 4
        },
        {
          "output_type": "display_data",
          "data": {
            "image/png": "[encoded data removed]",
            "text/plain": [
              "<Figure size 432x288 with 1 Axes>"
            ]
          },
          "metadata": {
            "needs_background": "light"
          }
        }
      ]
    },
    {
      "cell_type": "markdown",
      "metadata": {
        "id": "1yIaBiIPQqpJ"
      },
      "source": [
        "## 딥러닝 모형 만들기"
      ]
    },
    {
      "cell_type": "code",
      "metadata": {
        "id": "icXWj_bKQt6h"
      },
      "source": [
        "import tensorflow as tf\n",
        "from tensorflow import keras\n",
        "from keras import layers"
      ],
      "execution_count": null,
      "outputs": []
    },
    {
      "cell_type": "code",
      "metadata": {
        "id": "bu1I2WfOQ8kL"
      },
      "source": [
        "# 모델 표현\n",
        "model = keras.Sequential([layers.Dense(1,input_shape=[1])])"
      ],
      "execution_count": null,
      "outputs": []
    },
    {
      "cell_type": "code",
      "metadata": {
        "id": "U34O_6_lRZHx"
      },
      "source": [
        "# 학습 알고리즘 설정\n",
        "optimizer = keras.optimizers.RMSprop(learning_rate=0.01)"
      ],
      "execution_count": null,
      "outputs": []
    },
    {
      "cell_type": "code",
      "metadata": {
        "id": "saSmFOgFR-hd"
      },
      "source": [
        "# 모델 컴파일\n",
        "# optimizer: 최적화 방법\n",
        "# loss: 손실함수 (회귀의 경우 mse)\n",
        "model.compile(optimizer=optimizer, loss='mse')"
      ],
      "execution_count": null,
      "outputs": []
    },
    {
      "cell_type": "code",
      "metadata": {
        "colab": {
          "base_uri": "https://localhost:8080/"
        },
        "id": "PCBEEO66Sxk1",
        "outputId": "094d3a5a-6489-44c7-ce35-ef68cef5e5ac"
      },
      "source": [
        "model.summary()"
      ],
      "execution_count": null,
      "outputs": [
        {
          "output_type": "stream",
          "name": "stdout",
          "text": [
            "Model: \"sequential_1\"\n",
            "_________________________________________________________________\n",
            "Layer (type)                 Output Shape              Param #   \n",
            "=================================================================\n",
            "dense_1 (Dense)              (None, 1)                 2         \n",
            "=================================================================\n",
            "Total params: 2\n",
            "Trainable params: 2\n",
            "Non-trainable params: 0\n",
            "_________________________________________________________________\n"
          ]
        }
      ]
    },
    {
      "cell_type": "markdown",
      "metadata": {
        "id": "qOwNnv4uS6F0"
      },
      "source": [
        "## 모델의 학습"
      ]
    },
    {
      "cell_type": "code",
      "metadata": {
        "id": "vJaPrxpkS7lC"
      },
      "source": [
        "# 데이터 준비(numpy array)\n",
        "import numpy as np\n",
        "X=np.array(df['X'])\n",
        "y=np.array(df['y'])"
      ],
      "execution_count": null,
      "outputs": []
    },
    {
      "cell_type": "code",
      "metadata": {
        "colab": {
          "base_uri": "https://localhost:8080/"
        },
        "id": "pqQ4q6xuTLqh",
        "outputId": "efd5b461-0e21-425b-f063-b7fc59759b27"
      },
      "source": [
        "# 학습\n",
        "history=model.fit(X,y,epochs=50)"
      ],
      "execution_count": null,
      "outputs": [
        {
          "output_type": "stream",
          "name": "stdout",
          "text": [
            "Epoch 1/50\n",
            "32/32 [==============================] - 0s 1ms/step - loss: 37.4448\n",
            "Epoch 2/50\n",
            "32/32 [==============================] - 0s 1ms/step - loss: 32.3016\n",
            "Epoch 3/50\n",
            "32/32 [==============================] - 0s 1ms/step - loss: 27.7335\n",
            "Epoch 4/50\n",
            "32/32 [==============================] - 0s 1ms/step - loss: 23.5430\n",
            "Epoch 5/50\n",
            "32/32 [==============================] - 0s 1ms/step - loss: 19.7826\n",
            "Epoch 6/50\n",
            "32/32 [==============================] - 0s 1ms/step - loss: 16.3591\n",
            "Epoch 7/50\n",
            "32/32 [==============================] - 0s 1ms/step - loss: 13.3465\n",
            "Epoch 8/50\n",
            "32/32 [==============================] - 0s 1ms/step - loss: 10.6420\n",
            "Epoch 9/50\n",
            "32/32 [==============================] - 0s 979us/step - loss: 8.1909\n",
            "Epoch 10/50\n",
            "32/32 [==============================] - 0s 972us/step - loss: 6.1924\n",
            "Epoch 11/50\n",
            "32/32 [==============================] - 0s 1ms/step - loss: 4.5670\n",
            "Epoch 12/50\n",
            "32/32 [==============================] - 0s 1ms/step - loss: 3.2767\n",
            "Epoch 13/50\n",
            "32/32 [==============================] - 0s 1ms/step - loss: 2.2929\n",
            "Epoch 14/50\n",
            "32/32 [==============================] - 0s 1ms/step - loss: 1.6456\n",
            "Epoch 15/50\n",
            "32/32 [==============================] - 0s 1ms/step - loss: 1.2637\n",
            "Epoch 16/50\n",
            "32/32 [==============================] - 0s 1ms/step - loss: 1.0966\n",
            "Epoch 17/50\n",
            "32/32 [==============================] - 0s 1ms/step - loss: 1.0445\n",
            "Epoch 18/50\n",
            "32/32 [==============================] - 0s 1ms/step - loss: 1.0317\n",
            "Epoch 19/50\n",
            "32/32 [==============================] - 0s 1ms/step - loss: 1.0302\n",
            "Epoch 20/50\n",
            "32/32 [==============================] - 0s 1ms/step - loss: 1.0301\n",
            "Epoch 21/50\n",
            "32/32 [==============================] - 0s 1ms/step - loss: 1.0305\n",
            "Epoch 22/50\n",
            "32/32 [==============================] - 0s 1ms/step - loss: 1.0297\n",
            "Epoch 23/50\n",
            "32/32 [==============================] - 0s 1ms/step - loss: 1.0311\n",
            "Epoch 24/50\n",
            "32/32 [==============================] - 0s 1ms/step - loss: 1.0295\n",
            "Epoch 25/50\n",
            "32/32 [==============================] - 0s 1ms/step - loss: 1.0315\n",
            "Epoch 26/50\n",
            "32/32 [==============================] - 0s 1ms/step - loss: 1.0291\n",
            "Epoch 27/50\n",
            "32/32 [==============================] - 0s 1ms/step - loss: 1.0311\n",
            "Epoch 28/50\n",
            "32/32 [==============================] - 0s 1ms/step - loss: 1.0291\n",
            "Epoch 29/50\n",
            "32/32 [==============================] - 0s 1ms/step - loss: 1.0304\n",
            "Epoch 30/50\n",
            "32/32 [==============================] - 0s 1ms/step - loss: 1.0303\n",
            "Epoch 31/50\n",
            "32/32 [==============================] - 0s 1ms/step - loss: 1.0289\n",
            "Epoch 32/50\n",
            "32/32 [==============================] - 0s 1ms/step - loss: 1.0311\n",
            "Epoch 33/50\n",
            "32/32 [==============================] - 0s 1ms/step - loss: 1.0298\n",
            "Epoch 34/50\n",
            "32/32 [==============================] - 0s 1ms/step - loss: 1.0304\n",
            "Epoch 35/50\n",
            "32/32 [==============================] - 0s 1ms/step - loss: 1.0293\n",
            "Epoch 36/50\n",
            "32/32 [==============================] - 0s 2ms/step - loss: 1.0297\n",
            "Epoch 37/50\n",
            "32/32 [==============================] - 0s 1ms/step - loss: 1.0306\n",
            "Epoch 38/50\n",
            "32/32 [==============================] - 0s 1ms/step - loss: 1.0287\n",
            "Epoch 39/50\n",
            "32/32 [==============================] - 0s 1ms/step - loss: 1.0305\n",
            "Epoch 40/50\n",
            "32/32 [==============================] - 0s 1ms/step - loss: 1.0305\n",
            "Epoch 41/50\n",
            "32/32 [==============================] - 0s 1ms/step - loss: 1.0306\n",
            "Epoch 42/50\n",
            "32/32 [==============================] - 0s 1ms/step - loss: 1.0299\n",
            "Epoch 43/50\n",
            "32/32 [==============================] - 0s 1ms/step - loss: 1.0302\n",
            "Epoch 44/50\n",
            "32/32 [==============================] - 0s 1ms/step - loss: 1.0304\n",
            "Epoch 45/50\n",
            "32/32 [==============================] - 0s 980us/step - loss: 1.0290\n",
            "Epoch 46/50\n",
            "32/32 [==============================] - 0s 1ms/step - loss: 1.0313\n",
            "Epoch 47/50\n",
            "32/32 [==============================] - 0s 982us/step - loss: 1.0313\n",
            "Epoch 48/50\n",
            "32/32 [==============================] - 0s 1ms/step - loss: 1.0305\n",
            "Epoch 49/50\n",
            "32/32 [==============================] - 0s 1ms/step - loss: 1.0300\n",
            "Epoch 50/50\n",
            "32/32 [==============================] - 0s 1ms/step - loss: 1.0297\n"
          ]
        }
      ]
    },
    {
      "cell_type": "markdown",
      "metadata": {
        "id": "DxJHyjvmUh_H"
      },
      "source": [
        "## 학습 히스토리 보기"
      ]
    },
    {
      "cell_type": "code",
      "metadata": {
        "colab": {
          "base_uri": "https://localhost:8080/",
          "height": 283
        },
        "id": "lGfN-bGLUjcw",
        "outputId": "7c1dbe68-0d65-4791-f96e-babf8dfdb475"
      },
      "source": [
        "hist=history.history\n",
        "plt.plot(hist['loss'])"
      ],
      "execution_count": null,
      "outputs": [
        {
          "output_type": "execute_result",
          "data": {
            "text/plain": [
              "[<matplotlib.lines.Line2D at 0x7f70293ab150>]"
            ]
          },
          "metadata": {},
          "execution_count": 25
        },
        {
          "output_type": "display_data",
          "data": {
            "image/png": "[encoded data removed]",
            "text/plain": [
              "<Figure size 432x288 with 1 Axes>"
            ]
          },
          "metadata": {
            "needs_background": "light"
          }
        }
      ]
    },
    {
      "cell_type": "markdown",
      "metadata": {
        "id": "XhZ9A0DWVEnG"
      },
      "source": [
        "## 모델이 어떻게 예측했나"
      ]
    },
    {
      "cell_type": "code",
      "metadata": {
        "id": "WgIsvIX_VJ4p"
      },
      "source": [
        "y_pred = model.predict(X)"
      ],
      "execution_count": null,
      "outputs": []
    },
    {
      "cell_type": "code",
      "metadata": {
        "colab": {
          "base_uri": "https://localhost:8080/",
          "height": 283
        },
        "id": "ztO30qxfVYLT",
        "outputId": "2e6abe26-33f9-4f5c-f660-4f11fe645a62"
      },
      "source": [
        "plt.scatter(X,y) #y는 원래 데이터(정답)\n",
        "plt.scatter(X,y_pred) #y_pred는 뉴럴네트워크가 예측한 데이터"
      ],
      "execution_count": null,
      "outputs": [
        {
          "output_type": "execute_result",
          "data": {
            "text/plain": [
              "<matplotlib.collections.PathCollection at 0x7f7028e1fe90>"
            ]
          },
          "metadata": {},
          "execution_count": 28
        },
        {
          "output_type": "display_data",
          "data": {
            "image/png": "[encoded data removed]",
            "text/plain": [
              "<Figure size 432x288 with 1 Axes>"
            ]
          },
          "metadata": {
            "needs_background": "light"
          }
        }
      ]
    },
    {
      "cell_type": "code",
      "metadata": {
        "id": "76IR7hRBVq-d",
        "colab": {
          "base_uri": "https://localhost:8080/"
        },
        "outputId": "627b748d-da4f-4287-8785-b5d7b34db160"
      },
      "source": [
        "model.get_weights()"
      ],
      "execution_count": null,
      "outputs": [
        {
          "output_type": "execute_result",
          "data": {
            "text/plain": [
              "[array([[-3.446547]], dtype=float32), array([4.2252836], dtype=float32)]"
            ]
          },
          "metadata": {},
          "execution_count": 29
        }
      ]
    }
  ]
}